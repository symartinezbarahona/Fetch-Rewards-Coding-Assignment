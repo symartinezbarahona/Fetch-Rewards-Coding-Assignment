{
 "cells": [
  {
   "cell_type": "code",
   "execution_count": 1,
   "metadata": {},
   "outputs": [],
   "source": [
    "import gzip\n",
    "import json\n",
    "import shutil\n",
    "import os\n",
    "from ast import literal_eval\n",
    "import pandas as pd\n",
    "from datetime import datetime\n",
    "import pyodbc\n",
    "import sqlalchemy as sal\n",
    "import numpy as np"
   ]
  },
  {
   "cell_type": "code",
   "execution_count": 2,
   "metadata": {},
   "outputs": [],
   "source": [
    "# For unzipping .gz files \n",
    "for f in os.listdir():\n",
    "  if 'json' in f:  \n",
    "      with gzip.open(f, 'rb') as f_in:\n",
    "          with open(f.replace('.gz',''), 'wb') as f_out:\n",
    "            shutil.copyfileobj(f_in, f_out)"
   ]
  },
  {
   "cell_type": "markdown",
   "metadata": {},
   "source": [
    "---\n",
    "# Data Wrangling\n",
    "\n",
    "In this section, we will be formatting our JSON files, processing nested JSON objects, and cleaning up the overall structure of the datasets.\n",
    "## File Formatting\n",
    "\n",
    "Due to invalid formatting found in the JSON files during data modeling, the code below assist us in validating and cleaning JSON data for processing. First, run **python -m json.tool filename** in the command line to check whether the file is a valid JSON document. You should receive an error if invalid. Othewise, the whole file prints. \n",
    "\n",
    "If an error is confirmed, run the data pipeline below to render a clean json file. The data pipeline is defined to utilze the JSONDecoder.raw_decode() (and its undocumented second parameter) to traverse the data, look for valid JSON structures in an iterative manner, and parse any invalid structures it encounters. A nice benefit to this built-in json module is that it will properly parse the data even if the concatenated JSONs are not properly indented or are just missing. \n",
    "\n",
    "Once all our JSON data has been parsed, the file will be outputted, read again, and unnested at the first level. This should aid us in idenitifying which JSON objects need to be flatten even further.\n",
    "\n",
    "**Please note that even after running the JSON files into the data pipeline, the data will still be structured as a JSON array (or list in Python) rather than the standard JSON object (or dict in Python)**"
   ]
  },
  {
   "cell_type": "code",
   "execution_count": 3,
   "metadata": {},
   "outputs": [],
   "source": [
    "def jsonFormatter(filename, parsed= None, parser= None): \n",
    "    parser = json.JSONDecoder() \n",
    "    parsed = [] # a list to hold individually parsed JSON structures\n",
    "    with open('{filename}.json'.format(filename = filename)) as f: \n",
    "        data = f.read() \n",
    "        head = 0 # hold the current position as we parse while True: \n",
    "        while True:\n",
    "            head = (data.find('{', head) + 1 or data.find('[', head) + 1) - 1\n",
    "            try:\n",
    "                struct, head = parser.raw_decode(data, head)\n",
    "                parsed.append(struct)\n",
    "            except (ValueError, json.JSONDecodeError):  # no more valid JSON structures\n",
    "                break\n",
    "\n",
    "    with open('{filename}Clean.json'.format(filename = filename), 'w', encoding='utf-8') as jsonfile: # Parsed file is outputted for documentation\n",
    "        json.dump(parsed, jsonfile, ensure_ascii=False, indent=2)\n",
    "\n",
    "        df = pd.json_normalize(parsed, max_level = 1) # objects unnested\n",
    "        df.rename(columns=lambda x: x.split('.')[0].replace(' ','') if '.' in x else x, inplace= True) #removing json keys in column name\n",
    "        return df"
   ]
  },
  {
   "cell_type": "code",
   "execution_count": 4,
   "metadata": {},
   "outputs": [],
   "source": [
    "# Load fetch rewards datasets.\n",
    "users = jsonFormatter('users')\n",
    "receipts = jsonFormatter('receipts')\n",
    "brands = jsonFormatter('brands')"
   ]
  },
  {
   "cell_type": "markdown",
   "metadata": {},
   "source": [
    "## Flattening Deeply Nested JSON Objects\n",
    "\n",
    "After formatting our datasets into a desired state, our next step is to flatten the deeply nested objects and extract the JSON arrays (or lists) that are embedded within each key. From there, we can ensure we have access to the values that will inform our analysis later on. "
   ]
  },
  {
   "cell_type": "markdown",
   "metadata": {},
   "source": [
    "### Receipts\n",
    "\n",
    " In order to access the remaining items nested in the Receipts dataset, we need to explode 'rewardsReceiptItemList' so we can access the lists of receipts. From there, we ensure all the values, especially the NAs, are embedded within the lists so that we can convert them into strings and then feed them into our literal_eval function. Finally, after detecting each dictionary and list,  we run json_normalize to unnest all keys and values and merge them back to their respective datasets by index. In the end, each 'receiptId' should have duplicated rows that represent each individual item by receipt. This was done to more easily extract brand and item information. "
   ]
  },
  {
   "cell_type": "code",
   "execution_count": 5,
   "metadata": {},
   "outputs": [],
   "source": [
    "receipts = receipts.reindex(sorted(receipts.columns), axis=1) "
   ]
  },
  {
   "cell_type": "code",
   "execution_count": 6,
   "metadata": {},
   "outputs": [],
   "source": [
    "receipts = receipts.explode('rewardsReceiptItemList') # explode nested objects\n",
    "receipts.reset_index(inplace=True)\n",
    "\n",
    "receipts = receipts.fillna({'rewardsReceiptItemList':'{}'}) # adding curly bracklets to detect lists among NAs\n",
    "receipts['rewardsReceiptItemList'] = receipts['rewardsReceiptItemList'].apply(lambda x:str(x)) # converting to strings\n",
    "receipts['rewardsReceiptItemList'] = receipts['rewardsReceiptItemList'].apply(literal_eval) # detecting dictionaries and lists"
   ]
  },
  {
   "cell_type": "code",
   "execution_count": 7,
   "metadata": {},
   "outputs": [],
   "source": [
    "rewardsReceiptsFlat = pd.json_normalize(receipts['rewardsReceiptItemList'],errors='ignore',record_prefix='rewardsReceiptItemList') # unnesting by variable, ideally performed with meta\n",
    "rewardsReceiptsFlat.rename(columns =  {'pointsEarned': 'pointsEarnedReceipt'}, inplace= True)\n",
    "rewardsReceiptsFlat = rewardsReceiptsFlat.reindex(sorted(rewardsReceiptsFlat.columns), axis=1) "
   ]
  },
  {
   "cell_type": "code",
   "execution_count": 8,
   "metadata": {},
   "outputs": [],
   "source": [
    "receiptsClean =  pd.merge(receipts, rewardsReceiptsFlat, left_index = True, right_index = True, how = 'outer') # Merging by index"
   ]
  },
  {
   "cell_type": "code",
   "execution_count": 9,
   "metadata": {},
   "outputs": [],
   "source": [
    "receiptsClean = receiptsClean.drop(['rewardsReceiptItemList', 'index'], axis= 1)\n",
    "receiptsClean.rename(columns = {'_id':'receiptId'}, inplace= True)\n",
    "#receipts_clean.reset_index(inplace=True, drop = True)"
   ]
  },
  {
   "cell_type": "code",
   "execution_count": 10,
   "metadata": {},
   "outputs": [],
   "source": [
    "def strip_obj(col):\n",
    "    if col.dtypes == object:\n",
    "        return (col.astype(str)\n",
    "                   .str.strip()\n",
    "                   .replace({'nan': np.nan}))\n",
    "    return col"
   ]
  },
  {
   "cell_type": "code",
   "execution_count": 11,
   "metadata": {},
   "outputs": [],
   "source": [
    "receiptsClean = receiptsClean.apply(strip_obj, axis=0)"
   ]
  },
  {
   "cell_type": "code",
   "execution_count": 12,
   "metadata": {},
   "outputs": [],
   "source": [
    "receipts_clean = receiptsClean.dropna(axis = 1, how = 'all')\n",
    "receipts_clean = receipts_clean.drop_duplicates()"
   ]
  },
  {
   "cell_type": "markdown",
   "metadata": {},
   "source": [
    "## Brands\n",
    "\n",
    "As a reult of the file formatting, the 'cpg' key was unneested, however, the values for the keys 'id' and 'ref' are now contained in two separate columns with duplicated column names, 'cpg'. To access the values, all we need to do is differentiate the columns and unnest the remaining key, 'oid', which er will merge back in by index. "
   ]
  },
  {
   "cell_type": "code",
   "execution_count": 13,
   "metadata": {},
   "outputs": [],
   "source": [
    "s = pd.Series(brands.columns)\n",
    "brands.columns= brands.columns+s.groupby(s).cumcount().replace(0,'').astype(str) # idenitfied duplicated columns and numbered them\n",
    "brands = brands.reindex(sorted(brands.columns), axis=1) "
   ]
  },
  {
   "cell_type": "code",
   "execution_count": 14,
   "metadata": {},
   "outputs": [],
   "source": [
    "cpgFlatId = pd.json_normalize(brands['cpg'], errors='ignore', record_prefix='cpg' , max_level= 1)\\\n",
    "    .add_prefix('cpgId') #unnesting by variable and adding prefix to column name"
   ]
  },
  {
   "cell_type": "code",
   "execution_count": 15,
   "metadata": {},
   "outputs": [],
   "source": [
    "brandsClean = pd.merge(brands, cpgFlatId, left_index = True, right_index = True, how = 'outer') # Merging by index"
   ]
  },
  {
   "cell_type": "code",
   "execution_count": 16,
   "metadata": {},
   "outputs": [],
   "source": [
    "brandsClean = brandsClean.drop(['cpg'], axis= 1)\n",
    "brandsClean.rename(columns =  {'cpg1': 'cpgRef', '_id':'brandId'}, inplace= True)\n",
    "brandsClean.rename(columns=lambda x: x.split('$')[0].replace(' ','') if '$' in x else x, inplace= True) #removing json keys in column name\n",
    "#brands_clean = brands_clean.reindex(sorted(brands_clean.columns), axis=1)"
   ]
  },
  {
   "cell_type": "code",
   "execution_count": 17,
   "metadata": {},
   "outputs": [],
   "source": [
    "brandsClean = brandsClean.apply(strip_obj, axis=0)\n",
    "brandsClean = brandsClean.replace('', np.nan, regex=True)"
   ]
  },
  {
   "cell_type": "code",
   "execution_count": 18,
   "metadata": {},
   "outputs": [],
   "source": [
    "brandsClean = brandsClean.dropna(axis = 1, how = 'all')\n",
    "brandsClean = brandsClean.drop_duplicates()"
   ]
  },
  {
   "cell_type": "markdown",
   "metadata": {},
   "source": [
    "## UNIX Timestamp to DateTime\n",
    "\n",
    "Now that we have flatten out all the JSON objects in our datasets, we will now convert the unix/epoch time that are present in some of our variables into a regular time stamp. For this purpose, we are going to define a function that divides our unix epoch by 1000 and convert our seconds to a UTC timestamp. From there we will use pandas.to_datetime() to convert our timestamps to datetime types.This method will apply to both the User and Receipts datasets. \n"
   ]
  },
  {
   "cell_type": "code",
   "execution_count": 19,
   "metadata": {},
   "outputs": [],
   "source": [
    "def dateConverter(x):\n",
    "  try:\n",
    "    return(datetime.utcfromtimestamp(x/1000).strftime('%Y-%m-%d %H:%M:%S'))\n",
    "  except:\n",
    "    return pd.NaT #coerce non integers to NaT"
   ]
  },
  {
   "cell_type": "code",
   "execution_count": 20,
   "metadata": {},
   "outputs": [],
   "source": [
    "for col in receiptsClean.columns:\n",
    "    if 'date' in col.lower():\n",
    "        receiptsClean[col] = receiptsClean[col].apply(lambda time: dateConverter(time)).apply(pd.to_datetime)"
   ]
  },
  {
   "cell_type": "code",
   "execution_count": 21,
   "metadata": {},
   "outputs": [],
   "source": [
    "users = users.reindex(sorted(users.columns), axis=1) "
   ]
  },
  {
   "cell_type": "code",
   "execution_count": 22,
   "metadata": {},
   "outputs": [],
   "source": [
    "for col in users.columns:\n",
    "    if any(x in col.lower() for x in ['date', 'login']):\n",
    "        users[col] = users[col].apply(lambda date: dateConverter(date)).apply(pd.to_datetime)"
   ]
  },
  {
   "cell_type": "code",
   "execution_count": 23,
   "metadata": {},
   "outputs": [],
   "source": [
    "usersClean = users.apply(strip_obj, axis=0)\n",
    "usersClean.rename(columns = {'_id':'userId'}, inplace= True)"
   ]
  },
  {
   "cell_type": "code",
   "execution_count": 24,
   "metadata": {},
   "outputs": [],
   "source": [
    "usersClean = usersClean.drop_duplicates()\n",
    "usersClean = usersClean.dropna(axis = 1, how = 'all')\n"
   ]
  },
  {
   "cell_type": "markdown",
   "metadata": {},
   "source": [
    "---\n",
    "# Table Designing in SQL\n",
    "\n",
    "In this section... \n",
    "\n",
    "## Inserting Data into SQL"
   ]
  },
  {
   "cell_type": "code",
   "execution_count": 25,
   "metadata": {},
   "outputs": [],
   "source": [
    "# Defined function to create url used for creating engines\n",
    "def url(server_name, database):\n",
    "    return(f'mssql+pyodbc://{server_name}/{database}?driver=ODBC Driver 17 for SQL Server')"
   ]
  },
  {
   "cell_type": "code",
   "execution_count": 26,
   "metadata": {},
   "outputs": [],
   "source": [
    "fr = url('LAPTOP-9Q779EDT','fetchRewards')\n",
    "engine = sal.create_engine(fr)\n",
    "conn = engine.connect()"
   ]
  },
  {
   "cell_type": "code",
   "execution_count": 27,
   "metadata": {},
   "outputs": [],
   "source": [
    "%%capture\n",
    "usersClean.info()\n",
    "receiptsClean.info()\n",
    "brandsClean.info()"
   ]
  },
  {
   "cell_type": "code",
   "execution_count": 28,
   "metadata": {},
   "outputs": [],
   "source": [
    "#Converting string to float \n",
    "for col in receiptsClean.columns:\n",
    "    if any(x in col.lower() for x in ['price', 'total']):\n",
    "        receiptsClean[col] = receiptsClean[col].astype(float)"
   ]
  },
  {
   "cell_type": "code",
   "execution_count": 29,
   "metadata": {},
   "outputs": [],
   "source": [
    "receiptsFloat = ['pointsEarned','pointsEarnedReceipt' ]\n",
    "receiptsClean[receiptsFloat] = receiptsClean[receiptsFloat].astype(float)"
   ]
  },
  {
   "cell_type": "code",
   "execution_count": 30,
   "metadata": {},
   "outputs": [],
   "source": [
    "# To use dtype with to_sql(), we pass a dictionary keyed to each data frame column with corresponding sqlalchemy types.\n",
    "def sqlcol(df):    \n",
    "    \n",
    "    dtypedict = {}\n",
    "    for i,j in zip(df.columns, df.dtypes):\n",
    "        if \"object\" in str(j):\n",
    "            dtypedict.update({i: sal.types.VARCHAR(length=255)})\n",
    "                                 \n",
    "        if \"datetime\" in str(j):\n",
    "            dtypedict.update({i: sal.types.DateTime()})\n",
    "\n",
    "        if \"float\" in str(j):\n",
    "            dtypedict.update({i: sal.types.Float(precision=3, asdecimal=True)})\n",
    "\n",
    "        if \"int\" in str(j):\n",
    "            dtypedict.update({i: sal.types.INT()})\n",
    "\n",
    "        if \"bool\" in str(j):\n",
    "            dtypedict.update({i: sal.types.VARCHAR(length=255)})\n",
    "    return dtypedict"
   ]
  },
  {
   "cell_type": "code",
   "execution_count": 31,
   "metadata": {},
   "outputs": [],
   "source": [
    "usersType = sqlcol(usersClean)\n",
    "usersClean.to_sql('users', conn, if_exists='replace', index=False, chunksize =5000, \n",
    "dtype = usersType);"
   ]
  },
  {
   "cell_type": "code",
   "execution_count": 32,
   "metadata": {},
   "outputs": [],
   "source": [
    "receiptsType =sqlcol(receiptsClean)\n",
    "receiptsClean.to_sql('receipts', conn, if_exists='replace', index=False, chunksize= 5000, dtype = receiptsType);"
   ]
  },
  {
   "cell_type": "code",
   "execution_count": 33,
   "metadata": {},
   "outputs": [],
   "source": [
    "brandsType =sqlcol(brandsClean)\n",
    "brandsClean.to_sql('brands', conn, if_exists='replace', index=False, chunksize= 5000, dtype = brandsType);"
   ]
  },
  {
   "cell_type": "markdown",
   "metadata": {},
   "source": [
    "---\n",
    "# Adressing Stakeholder Needs"
   ]
  },
  {
   "cell_type": "code",
   "execution_count": 34,
   "metadata": {},
   "outputs": [],
   "source": [
    "brandsSpendTrans= pd.DataFrame(pd.read_sql_query(\"\"\"\\\n",
    "DECLARE  @createdDate DATETIME = (SELECT MAX(createdDate) FROM users)\n",
    "\n",
    "SELECT brandCode, ROUND(SUM(totalSpent),1) [spend], ROUND(SUM(purchasedItemCount),1) [transactions]\n",
    "FROM\n",
    "(SELECT DISTINCT receiptId, brandCode, totalSpent, purchasedItemCount, userId\n",
    "FROM receipts) receipts\n",
    "\n",
    "Inner join\n",
    "(SELECT userId, createdDate\n",
    "FROM users\n",
    "WHERE datediff(month, createdDate, @createdDate) between 0 and 6 )\n",
    "users on users.userId = receipts.userId\n",
    "\n",
    "GROUP BY brandCode\n",
    "\"\"\", conn))"
   ]
  },
  {
   "cell_type": "code",
   "execution_count": 35,
   "metadata": {},
   "outputs": [
    {
     "name": "stdout",
     "output_type": "stream",
     "text": [
      "Top five brands by spend among users who were created within the past 6 months\n"
     ]
    },
    {
     "data": {
      "text/html": [
       "<div>\n",
       "<style scoped>\n",
       "    .dataframe tbody tr th:only-of-type {\n",
       "        vertical-align: middle;\n",
       "    }\n",
       "\n",
       "    .dataframe tbody tr th {\n",
       "        vertical-align: top;\n",
       "    }\n",
       "\n",
       "    .dataframe thead th {\n",
       "        text-align: right;\n",
       "    }\n",
       "</style>\n",
       "<table border=\"1\" class=\"dataframe\">\n",
       "  <thead>\n",
       "    <tr style=\"text-align: right;\">\n",
       "      <th></th>\n",
       "      <th>brandCode</th>\n",
       "      <th>spend</th>\n",
       "    </tr>\n",
       "  </thead>\n",
       "  <tbody>\n",
       "    <tr>\n",
       "      <th>8</th>\n",
       "      <td>BEN AND JERRYS</td>\n",
       "      <td>20040.8</td>\n",
       "    </tr>\n",
       "    <tr>\n",
       "      <th>125</th>\n",
       "      <td>PEPSI</td>\n",
       "      <td>19390.6</td>\n",
       "    </tr>\n",
       "    <tr>\n",
       "      <th>48</th>\n",
       "      <td>FOLGERS</td>\n",
       "      <td>18900.0</td>\n",
       "    </tr>\n",
       "    <tr>\n",
       "      <th>82</th>\n",
       "      <td>KELLOGG'S</td>\n",
       "      <td>18555.4</td>\n",
       "    </tr>\n",
       "    <tr>\n",
       "      <th>10</th>\n",
       "      <td>BIGELOW</td>\n",
       "      <td>18362.7</td>\n",
       "    </tr>\n",
       "  </tbody>\n",
       "</table>\n",
       "</div>"
      ],
      "text/plain": [
       "          brandCode    spend\n",
       "8    BEN AND JERRYS  20040.8\n",
       "125           PEPSI  19390.6\n",
       "48          FOLGERS  18900.0\n",
       "82        KELLOGG'S  18555.4\n",
       "10          BIGELOW  18362.7"
      ]
     },
     "execution_count": 35,
     "metadata": {},
     "output_type": "execute_result"
    }
   ],
   "source": [
    "print(\"Top five brands by spend among users who were created within the past 6 months\")\n",
    "top5 = brandsSpendTrans.dropna()\n",
    "top5.nlargest(5,'spend')[['brandCode', 'spend']]"
   ]
  },
  {
   "cell_type": "code",
   "execution_count": 36,
   "metadata": {},
   "outputs": [
    {
     "name": "stdout",
     "output_type": "stream",
     "text": [
      "Top five brands by transactions among users who were created within the past 6 months\n"
     ]
    },
    {
     "data": {
      "text/html": [
       "<div>\n",
       "<style scoped>\n",
       "    .dataframe tbody tr th:only-of-type {\n",
       "        vertical-align: middle;\n",
       "    }\n",
       "\n",
       "    .dataframe tbody tr th {\n",
       "        vertical-align: top;\n",
       "    }\n",
       "\n",
       "    .dataframe thead th {\n",
       "        text-align: right;\n",
       "    }\n",
       "</style>\n",
       "<table border=\"1\" class=\"dataframe\">\n",
       "  <thead>\n",
       "    <tr style=\"text-align: right;\">\n",
       "      <th></th>\n",
       "      <th>brandCode</th>\n",
       "      <th>transactions</th>\n",
       "    </tr>\n",
       "  </thead>\n",
       "  <tbody>\n",
       "    <tr>\n",
       "      <th>8</th>\n",
       "      <td>BEN AND JERRYS</td>\n",
       "      <td>4111.0</td>\n",
       "    </tr>\n",
       "    <tr>\n",
       "      <th>125</th>\n",
       "      <td>PEPSI</td>\n",
       "      <td>3937.0</td>\n",
       "    </tr>\n",
       "    <tr>\n",
       "      <th>40</th>\n",
       "      <td>DOLE</td>\n",
       "      <td>3748.0</td>\n",
       "    </tr>\n",
       "    <tr>\n",
       "      <th>48</th>\n",
       "      <td>FOLGERS</td>\n",
       "      <td>3681.0</td>\n",
       "    </tr>\n",
       "    <tr>\n",
       "      <th>92</th>\n",
       "      <td>KNORR</td>\n",
       "      <td>3674.0</td>\n",
       "    </tr>\n",
       "  </tbody>\n",
       "</table>\n",
       "</div>"
      ],
      "text/plain": [
       "          brandCode  transactions\n",
       "8    BEN AND JERRYS        4111.0\n",
       "125           PEPSI        3937.0\n",
       "40             DOLE        3748.0\n",
       "48          FOLGERS        3681.0\n",
       "92            KNORR        3674.0"
      ]
     },
     "execution_count": 36,
     "metadata": {},
     "output_type": "execute_result"
    }
   ],
   "source": [
    "print(\"Top five brands by transactions among users who were created within the past 6 months\")\n",
    "top5.nlargest(5,'transactions')[['brandCode', 'transactions']]"
   ]
  }
 ],
 "metadata": {
  "kernelspec": {
   "display_name": "Python 3.9.12 ('base')",
   "language": "python",
   "name": "python3"
  },
  "language_info": {
   "codemirror_mode": {
    "name": "ipython",
    "version": 3
   },
   "file_extension": ".py",
   "mimetype": "text/x-python",
   "name": "python",
   "nbconvert_exporter": "python",
   "pygments_lexer": "ipython3",
   "version": "3.9.12"
  },
  "orig_nbformat": 4,
  "vscode": {
   "interpreter": {
    "hash": "ac7bf7f7fc21f46acede5780e5857257e0a15ccef43417f7f98f93b4afb2bd56"
   }
  }
 },
 "nbformat": 4,
 "nbformat_minor": 2
}
